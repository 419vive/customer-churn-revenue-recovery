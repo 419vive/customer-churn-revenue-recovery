{
 "cells": [
  {
   "cell_type": "markdown",
   "metadata": {},
   "source": [
    "# MVP: Olist Data Exploration\n",
    "Quick exploration using sample data - focus on key insights only"
   ]
  },
  {
   "cell_type": "code",
   "execution_count": null,
   "metadata": {},
   "outputs": [],
   "source": [
    "import pandas as pd\n",
    "import numpy as np\n",
    "import matplotlib.pyplot as plt\n",
    "import seaborn as sns\n",
    "from datetime import datetime\n",
    "\n",
    "# Simple setup\n",
    "plt.style.use('seaborn-v0_8')\n",
    "pd.set_option('display.max_columns', None)"
   ]
  },
  {
   "cell_type": "code",
   "execution_count": null,
   "metadata": {},
   "outputs": [],
   "source": [
    "# Load sample data\n",
    "orders = pd.read_csv('../data/sample_orders.csv')\n",
    "payments = pd.read_csv('../data/sample_payments.csv')\n",
    "customers = pd.read_csv('../data/sample_customers.csv')\n",
    "\n",
    "print(f\"Orders: {len(orders)}\")\n",
    "print(f\"Customers: {len(customers)}\")\n",
    "print(f\"Revenue: ${payments['payment_value'].sum():,.2f}\")"
   ]
  },
  {
   "cell_type": "code",
   "execution_count": null,
   "metadata": {},
   "outputs": [],
   "source": [
    "# Quick metrics\n",
    "print(\"=== KEY METRICS ===\")\n",
    "print(f\"Total Orders: {len(orders)}\")\n",
    "print(f\"Unique Customers: {orders['customer_id'].nunique()}\")\n",
    "print(f\"Avg Order Value: ${payments['payment_value'].mean():.2f}\")\n",
    "print(f\"Total Revenue: ${payments['payment_value'].sum():,.2f}\")"
   ]
  }
 ],
 "metadata": {
  "kernelspec": {
   "display_name": "Python 3",
   "language": "python",
   "name": "python3"
  },
  "language_info": {
   "name": "python",
   "version": "3.8.0"
  }
 },
 "nbformat": 4,
 "nbformat_minor": 4
}